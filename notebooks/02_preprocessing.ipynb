{
  "cells": [
    {
      "cell_type": "markdown",
      "metadata": {
        "id": "YsWp3LaA9esM"
      },
      "source": [
        "#  Data Preprocessing Pipeline\n",
        "# **Purpose:** Clean and prepare raw data for feature engineering and modeling\n"
      ]
    },
    {
      "cell_type": "code",
      "execution_count": 7,
      "metadata": {
        "id": "hfgQeQk99sSZ"
      },
      "outputs": [],
      "source": [
        "#Setup and imports\n",
        "import pandas as pd\n",
        "import numpy as np\n",
        "import warnings\n",
        "warnings.filterwarnings('ignore')\n"
      ]
    },
    {
      "cell_type": "code",
      "execution_count": 8,
      "metadata": {
        "id": "hEGX-Sd99_Id"
      },
      "outputs": [],
      "source": [
        "# Utilities\n",
        "import os\n",
        "from datetime import datetime\n",
        "import pickle"
      ]
    },
    {
      "cell_type": "code",
      "execution_count": 9,
      "metadata": {
        "colab": {
          "base_uri": "https://localhost:8080/"
        },
        "id": "Z5SGnTRs-Jt7",
        "outputId": "5ef8174a-7884-497d-a2fd-7bd042efaedb"
      },
      "outputs": [
        {
          "name": "stdout",
          "output_type": "stream",
          "text": [
            "Preprocessing started at: 2025-06-14 21:56:42.660103\n"
          ]
        }
      ],
      "source": [
        "# Display settings\n",
        "pd.set_option('display.max_columns', None)\n",
        "pd.set_option('display.max_rows', 100)\n",
        "pd.set_option('display.float_format', '{:.4f}'.format)\n",
        "\n",
        "print(f\"Preprocessing started at: {datetime.now()}\")\n"
      ]
    },
    {
      "cell_type": "markdown",
      "metadata": {
        "id": "K22sOJNn-RgR"
      },
      "source": [
        "# 2. Data Loading and Initial Inspection"
      ]
    },
    {
      "cell_type": "code",
      "execution_count": 10,
      "metadata": {
        "colab": {
          "base_uri": "https://localhost:8080/",
          "height": 971
        },
        "id": "0kV_tG00-URK",
        "outputId": "67b7fd18-57f3-442a-fdc6-548bc532e968"
      },
      "outputs": [
        {
          "name": "stdout",
          "output_type": "stream",
          "text": [
            "Raw data shape: (45211, 17)\n",
            "Memory usage: 25.75 MB\n",
            "=== DATA OVERVIEW ===\n",
            "<class 'pandas.core.frame.DataFrame'>\n",
            "RangeIndex: 45211 entries, 0 to 45210\n",
            "Data columns (total 17 columns):\n",
            " #   Column     Non-Null Count  Dtype \n",
            "---  ------     --------------  ----- \n",
            " 0   age        45211 non-null  int64 \n",
            " 1   job        45211 non-null  object\n",
            " 2   marital    45211 non-null  object\n",
            " 3   education  45211 non-null  object\n",
            " 4   default    45211 non-null  object\n",
            " 5   balance    45211 non-null  int64 \n",
            " 6   housing    45211 non-null  object\n",
            " 7   loan       45211 non-null  object\n",
            " 8   contact    45211 non-null  object\n",
            " 9   day        45211 non-null  int64 \n",
            " 10  month      45211 non-null  object\n",
            " 11  duration   45211 non-null  int64 \n",
            " 12  campaign   45211 non-null  int64 \n",
            " 13  pdays      45211 non-null  int64 \n",
            " 14  previous   45211 non-null  int64 \n",
            " 15  poutcome   45211 non-null  object\n",
            " 16  y          45211 non-null  object\n",
            "dtypes: int64(7), object(10)\n",
            "memory usage: 5.9+ MB\n",
            "None\n",
            "\n",
            "=== FIRST 5 ROWS ===\n"
          ]
        },
        {
          "data": {
            "text/html": [
              "<div>\n",
              "<style scoped>\n",
              "    .dataframe tbody tr th:only-of-type {\n",
              "        vertical-align: middle;\n",
              "    }\n",
              "\n",
              "    .dataframe tbody tr th {\n",
              "        vertical-align: top;\n",
              "    }\n",
              "\n",
              "    .dataframe thead th {\n",
              "        text-align: right;\n",
              "    }\n",
              "</style>\n",
              "<table border=\"1\" class=\"dataframe\">\n",
              "  <thead>\n",
              "    <tr style=\"text-align: right;\">\n",
              "      <th></th>\n",
              "      <th>age</th>\n",
              "      <th>job</th>\n",
              "      <th>marital</th>\n",
              "      <th>education</th>\n",
              "      <th>default</th>\n",
              "      <th>balance</th>\n",
              "      <th>housing</th>\n",
              "      <th>loan</th>\n",
              "      <th>contact</th>\n",
              "      <th>day</th>\n",
              "      <th>month</th>\n",
              "      <th>duration</th>\n",
              "      <th>campaign</th>\n",
              "      <th>pdays</th>\n",
              "      <th>previous</th>\n",
              "      <th>poutcome</th>\n",
              "      <th>y</th>\n",
              "    </tr>\n",
              "  </thead>\n",
              "  <tbody>\n",
              "    <tr>\n",
              "      <th>0</th>\n",
              "      <td>58</td>\n",
              "      <td>management</td>\n",
              "      <td>married</td>\n",
              "      <td>tertiary</td>\n",
              "      <td>no</td>\n",
              "      <td>2143</td>\n",
              "      <td>yes</td>\n",
              "      <td>no</td>\n",
              "      <td>unknown</td>\n",
              "      <td>5</td>\n",
              "      <td>may</td>\n",
              "      <td>261</td>\n",
              "      <td>1</td>\n",
              "      <td>-1</td>\n",
              "      <td>0</td>\n",
              "      <td>unknown</td>\n",
              "      <td>no</td>\n",
              "    </tr>\n",
              "    <tr>\n",
              "      <th>1</th>\n",
              "      <td>44</td>\n",
              "      <td>technician</td>\n",
              "      <td>single</td>\n",
              "      <td>secondary</td>\n",
              "      <td>no</td>\n",
              "      <td>29</td>\n",
              "      <td>yes</td>\n",
              "      <td>no</td>\n",
              "      <td>unknown</td>\n",
              "      <td>5</td>\n",
              "      <td>may</td>\n",
              "      <td>151</td>\n",
              "      <td>1</td>\n",
              "      <td>-1</td>\n",
              "      <td>0</td>\n",
              "      <td>unknown</td>\n",
              "      <td>no</td>\n",
              "    </tr>\n",
              "    <tr>\n",
              "      <th>2</th>\n",
              "      <td>33</td>\n",
              "      <td>entrepreneur</td>\n",
              "      <td>married</td>\n",
              "      <td>secondary</td>\n",
              "      <td>no</td>\n",
              "      <td>2</td>\n",
              "      <td>yes</td>\n",
              "      <td>yes</td>\n",
              "      <td>unknown</td>\n",
              "      <td>5</td>\n",
              "      <td>may</td>\n",
              "      <td>76</td>\n",
              "      <td>1</td>\n",
              "      <td>-1</td>\n",
              "      <td>0</td>\n",
              "      <td>unknown</td>\n",
              "      <td>no</td>\n",
              "    </tr>\n",
              "    <tr>\n",
              "      <th>3</th>\n",
              "      <td>47</td>\n",
              "      <td>blue-collar</td>\n",
              "      <td>married</td>\n",
              "      <td>unknown</td>\n",
              "      <td>no</td>\n",
              "      <td>1506</td>\n",
              "      <td>yes</td>\n",
              "      <td>no</td>\n",
              "      <td>unknown</td>\n",
              "      <td>5</td>\n",
              "      <td>may</td>\n",
              "      <td>92</td>\n",
              "      <td>1</td>\n",
              "      <td>-1</td>\n",
              "      <td>0</td>\n",
              "      <td>unknown</td>\n",
              "      <td>no</td>\n",
              "    </tr>\n",
              "    <tr>\n",
              "      <th>4</th>\n",
              "      <td>33</td>\n",
              "      <td>unknown</td>\n",
              "      <td>single</td>\n",
              "      <td>unknown</td>\n",
              "      <td>no</td>\n",
              "      <td>1</td>\n",
              "      <td>no</td>\n",
              "      <td>no</td>\n",
              "      <td>unknown</td>\n",
              "      <td>5</td>\n",
              "      <td>may</td>\n",
              "      <td>198</td>\n",
              "      <td>1</td>\n",
              "      <td>-1</td>\n",
              "      <td>0</td>\n",
              "      <td>unknown</td>\n",
              "      <td>no</td>\n",
              "    </tr>\n",
              "  </tbody>\n",
              "</table>\n",
              "</div>"
            ],
            "text/plain": [
              "   age           job  marital  education default  balance housing loan  \\\n",
              "0   58    management  married   tertiary      no     2143     yes   no   \n",
              "1   44    technician   single  secondary      no       29     yes   no   \n",
              "2   33  entrepreneur  married  secondary      no        2     yes  yes   \n",
              "3   47   blue-collar  married    unknown      no     1506     yes   no   \n",
              "4   33       unknown   single    unknown      no        1      no   no   \n",
              "\n",
              "   contact  day month  duration  campaign  pdays  previous poutcome   y  \n",
              "0  unknown    5   may       261         1     -1         0  unknown  no  \n",
              "1  unknown    5   may       151         1     -1         0  unknown  no  \n",
              "2  unknown    5   may        76         1     -1         0  unknown  no  \n",
              "3  unknown    5   may        92         1     -1         0  unknown  no  \n",
              "4  unknown    5   may       198         1     -1         0  unknown  no  "
            ]
          },
          "metadata": {},
          "output_type": "display_data"
        },
        {
          "name": "stdout",
          "output_type": "stream",
          "text": [
            "\n",
            "=== LAST 5 ROWS ===\n"
          ]
        },
        {
          "data": {
            "text/html": [
              "<div>\n",
              "<style scoped>\n",
              "    .dataframe tbody tr th:only-of-type {\n",
              "        vertical-align: middle;\n",
              "    }\n",
              "\n",
              "    .dataframe tbody tr th {\n",
              "        vertical-align: top;\n",
              "    }\n",
              "\n",
              "    .dataframe thead th {\n",
              "        text-align: right;\n",
              "    }\n",
              "</style>\n",
              "<table border=\"1\" class=\"dataframe\">\n",
              "  <thead>\n",
              "    <tr style=\"text-align: right;\">\n",
              "      <th></th>\n",
              "      <th>age</th>\n",
              "      <th>job</th>\n",
              "      <th>marital</th>\n",
              "      <th>education</th>\n",
              "      <th>default</th>\n",
              "      <th>balance</th>\n",
              "      <th>housing</th>\n",
              "      <th>loan</th>\n",
              "      <th>contact</th>\n",
              "      <th>day</th>\n",
              "      <th>month</th>\n",
              "      <th>duration</th>\n",
              "      <th>campaign</th>\n",
              "      <th>pdays</th>\n",
              "      <th>previous</th>\n",
              "      <th>poutcome</th>\n",
              "      <th>y</th>\n",
              "    </tr>\n",
              "  </thead>\n",
              "  <tbody>\n",
              "    <tr>\n",
              "      <th>45206</th>\n",
              "      <td>51</td>\n",
              "      <td>technician</td>\n",
              "      <td>married</td>\n",
              "      <td>tertiary</td>\n",
              "      <td>no</td>\n",
              "      <td>825</td>\n",
              "      <td>no</td>\n",
              "      <td>no</td>\n",
              "      <td>cellular</td>\n",
              "      <td>17</td>\n",
              "      <td>nov</td>\n",
              "      <td>977</td>\n",
              "      <td>3</td>\n",
              "      <td>-1</td>\n",
              "      <td>0</td>\n",
              "      <td>unknown</td>\n",
              "      <td>yes</td>\n",
              "    </tr>\n",
              "    <tr>\n",
              "      <th>45207</th>\n",
              "      <td>71</td>\n",
              "      <td>retired</td>\n",
              "      <td>divorced</td>\n",
              "      <td>primary</td>\n",
              "      <td>no</td>\n",
              "      <td>1729</td>\n",
              "      <td>no</td>\n",
              "      <td>no</td>\n",
              "      <td>cellular</td>\n",
              "      <td>17</td>\n",
              "      <td>nov</td>\n",
              "      <td>456</td>\n",
              "      <td>2</td>\n",
              "      <td>-1</td>\n",
              "      <td>0</td>\n",
              "      <td>unknown</td>\n",
              "      <td>yes</td>\n",
              "    </tr>\n",
              "    <tr>\n",
              "      <th>45208</th>\n",
              "      <td>72</td>\n",
              "      <td>retired</td>\n",
              "      <td>married</td>\n",
              "      <td>secondary</td>\n",
              "      <td>no</td>\n",
              "      <td>5715</td>\n",
              "      <td>no</td>\n",
              "      <td>no</td>\n",
              "      <td>cellular</td>\n",
              "      <td>17</td>\n",
              "      <td>nov</td>\n",
              "      <td>1127</td>\n",
              "      <td>5</td>\n",
              "      <td>184</td>\n",
              "      <td>3</td>\n",
              "      <td>success</td>\n",
              "      <td>yes</td>\n",
              "    </tr>\n",
              "    <tr>\n",
              "      <th>45209</th>\n",
              "      <td>57</td>\n",
              "      <td>blue-collar</td>\n",
              "      <td>married</td>\n",
              "      <td>secondary</td>\n",
              "      <td>no</td>\n",
              "      <td>668</td>\n",
              "      <td>no</td>\n",
              "      <td>no</td>\n",
              "      <td>telephone</td>\n",
              "      <td>17</td>\n",
              "      <td>nov</td>\n",
              "      <td>508</td>\n",
              "      <td>4</td>\n",
              "      <td>-1</td>\n",
              "      <td>0</td>\n",
              "      <td>unknown</td>\n",
              "      <td>no</td>\n",
              "    </tr>\n",
              "    <tr>\n",
              "      <th>45210</th>\n",
              "      <td>37</td>\n",
              "      <td>entrepreneur</td>\n",
              "      <td>married</td>\n",
              "      <td>secondary</td>\n",
              "      <td>no</td>\n",
              "      <td>2971</td>\n",
              "      <td>no</td>\n",
              "      <td>no</td>\n",
              "      <td>cellular</td>\n",
              "      <td>17</td>\n",
              "      <td>nov</td>\n",
              "      <td>361</td>\n",
              "      <td>2</td>\n",
              "      <td>188</td>\n",
              "      <td>11</td>\n",
              "      <td>other</td>\n",
              "      <td>no</td>\n",
              "    </tr>\n",
              "  </tbody>\n",
              "</table>\n",
              "</div>"
            ],
            "text/plain": [
              "       age           job   marital  education default  balance housing loan  \\\n",
              "45206   51    technician   married   tertiary      no      825      no   no   \n",
              "45207   71       retired  divorced    primary      no     1729      no   no   \n",
              "45208   72       retired   married  secondary      no     5715      no   no   \n",
              "45209   57   blue-collar   married  secondary      no      668      no   no   \n",
              "45210   37  entrepreneur   married  secondary      no     2971      no   no   \n",
              "\n",
              "         contact  day month  duration  campaign  pdays  previous poutcome    y  \n",
              "45206   cellular   17   nov       977         3     -1         0  unknown  yes  \n",
              "45207   cellular   17   nov       456         2     -1         0  unknown  yes  \n",
              "45208   cellular   17   nov      1127         5    184         3  success  yes  \n",
              "45209  telephone   17   nov       508         4     -1         0  unknown   no  \n",
              "45210   cellular   17   nov       361         2    188        11    other   no  "
            ]
          },
          "metadata": {},
          "output_type": "display_data"
        }
      ],
      "source": [
        "# Load raw data\n",
        "df_raw = pd.read_csv('/home/joojo/Desktop/azubia_test/data/raw/bank-full.csv', delimiter=';')\n",
        "\n",
        "print(f\"Raw data shape: {df_raw.shape}\")\n",
        "print(f\"Memory usage: {df_raw.memory_usage(deep=True).sum() / 1024**2:.2f} MB\")\n",
        "\n",
        "# %%\n",
        "# Basic data inspection\n",
        "print(\"=== DATA OVERVIEW ===\")\n",
        "print(df_raw.info())\n",
        "print(\"\\n=== FIRST 5 ROWS ===\")\n",
        "display(df_raw.head())\n",
        "print(\"\\n=== LAST 5 ROWS ===\")\n",
        "display(df_raw.tail())"
      ]
    },
    {
      "cell_type": "code",
      "execution_count": 11,
      "metadata": {
        "colab": {
          "base_uri": "https://localhost:8080/",
          "height": 600
        },
        "id": "wkPcrZmT-lvo",
        "outputId": "cd3f68ef-c5f6-4f4e-e729-0290fed27533"
      },
      "outputs": [
        {
          "name": "stdout",
          "output_type": "stream",
          "text": [
            "=== COLUMN INFORMATION ===\n"
          ]
        },
        {
          "data": {
            "text/html": [
              "<div>\n",
              "<style scoped>\n",
              "    .dataframe tbody tr th:only-of-type {\n",
              "        vertical-align: middle;\n",
              "    }\n",
              "\n",
              "    .dataframe tbody tr th {\n",
              "        vertical-align: top;\n",
              "    }\n",
              "\n",
              "    .dataframe thead th {\n",
              "        text-align: right;\n",
              "    }\n",
              "</style>\n",
              "<table border=\"1\" class=\"dataframe\">\n",
              "  <thead>\n",
              "    <tr style=\"text-align: right;\">\n",
              "      <th></th>\n",
              "      <th>Column</th>\n",
              "      <th>Data_Type</th>\n",
              "      <th>Non_Null_Count</th>\n",
              "      <th>Null_Count</th>\n",
              "      <th>Null_Percentage</th>\n",
              "    </tr>\n",
              "  </thead>\n",
              "  <tbody>\n",
              "    <tr>\n",
              "      <th>age</th>\n",
              "      <td>age</td>\n",
              "      <td>int64</td>\n",
              "      <td>45211</td>\n",
              "      <td>0</td>\n",
              "      <td>0.0000</td>\n",
              "    </tr>\n",
              "    <tr>\n",
              "      <th>job</th>\n",
              "      <td>job</td>\n",
              "      <td>object</td>\n",
              "      <td>45211</td>\n",
              "      <td>0</td>\n",
              "      <td>0.0000</td>\n",
              "    </tr>\n",
              "    <tr>\n",
              "      <th>marital</th>\n",
              "      <td>marital</td>\n",
              "      <td>object</td>\n",
              "      <td>45211</td>\n",
              "      <td>0</td>\n",
              "      <td>0.0000</td>\n",
              "    </tr>\n",
              "    <tr>\n",
              "      <th>education</th>\n",
              "      <td>education</td>\n",
              "      <td>object</td>\n",
              "      <td>45211</td>\n",
              "      <td>0</td>\n",
              "      <td>0.0000</td>\n",
              "    </tr>\n",
              "    <tr>\n",
              "      <th>default</th>\n",
              "      <td>default</td>\n",
              "      <td>object</td>\n",
              "      <td>45211</td>\n",
              "      <td>0</td>\n",
              "      <td>0.0000</td>\n",
              "    </tr>\n",
              "    <tr>\n",
              "      <th>balance</th>\n",
              "      <td>balance</td>\n",
              "      <td>int64</td>\n",
              "      <td>45211</td>\n",
              "      <td>0</td>\n",
              "      <td>0.0000</td>\n",
              "    </tr>\n",
              "    <tr>\n",
              "      <th>housing</th>\n",
              "      <td>housing</td>\n",
              "      <td>object</td>\n",
              "      <td>45211</td>\n",
              "      <td>0</td>\n",
              "      <td>0.0000</td>\n",
              "    </tr>\n",
              "    <tr>\n",
              "      <th>loan</th>\n",
              "      <td>loan</td>\n",
              "      <td>object</td>\n",
              "      <td>45211</td>\n",
              "      <td>0</td>\n",
              "      <td>0.0000</td>\n",
              "    </tr>\n",
              "    <tr>\n",
              "      <th>contact</th>\n",
              "      <td>contact</td>\n",
              "      <td>object</td>\n",
              "      <td>45211</td>\n",
              "      <td>0</td>\n",
              "      <td>0.0000</td>\n",
              "    </tr>\n",
              "    <tr>\n",
              "      <th>day</th>\n",
              "      <td>day</td>\n",
              "      <td>int64</td>\n",
              "      <td>45211</td>\n",
              "      <td>0</td>\n",
              "      <td>0.0000</td>\n",
              "    </tr>\n",
              "    <tr>\n",
              "      <th>month</th>\n",
              "      <td>month</td>\n",
              "      <td>object</td>\n",
              "      <td>45211</td>\n",
              "      <td>0</td>\n",
              "      <td>0.0000</td>\n",
              "    </tr>\n",
              "    <tr>\n",
              "      <th>duration</th>\n",
              "      <td>duration</td>\n",
              "      <td>int64</td>\n",
              "      <td>45211</td>\n",
              "      <td>0</td>\n",
              "      <td>0.0000</td>\n",
              "    </tr>\n",
              "    <tr>\n",
              "      <th>campaign</th>\n",
              "      <td>campaign</td>\n",
              "      <td>int64</td>\n",
              "      <td>45211</td>\n",
              "      <td>0</td>\n",
              "      <td>0.0000</td>\n",
              "    </tr>\n",
              "    <tr>\n",
              "      <th>pdays</th>\n",
              "      <td>pdays</td>\n",
              "      <td>int64</td>\n",
              "      <td>45211</td>\n",
              "      <td>0</td>\n",
              "      <td>0.0000</td>\n",
              "    </tr>\n",
              "    <tr>\n",
              "      <th>previous</th>\n",
              "      <td>previous</td>\n",
              "      <td>int64</td>\n",
              "      <td>45211</td>\n",
              "      <td>0</td>\n",
              "      <td>0.0000</td>\n",
              "    </tr>\n",
              "    <tr>\n",
              "      <th>poutcome</th>\n",
              "      <td>poutcome</td>\n",
              "      <td>object</td>\n",
              "      <td>45211</td>\n",
              "      <td>0</td>\n",
              "      <td>0.0000</td>\n",
              "    </tr>\n",
              "    <tr>\n",
              "      <th>y</th>\n",
              "      <td>y</td>\n",
              "      <td>object</td>\n",
              "      <td>45211</td>\n",
              "      <td>0</td>\n",
              "      <td>0.0000</td>\n",
              "    </tr>\n",
              "  </tbody>\n",
              "</table>\n",
              "</div>"
            ],
            "text/plain": [
              "              Column Data_Type  Non_Null_Count  Null_Count  Null_Percentage\n",
              "age              age     int64           45211           0           0.0000\n",
              "job              job    object           45211           0           0.0000\n",
              "marital      marital    object           45211           0           0.0000\n",
              "education  education    object           45211           0           0.0000\n",
              "default      default    object           45211           0           0.0000\n",
              "balance      balance     int64           45211           0           0.0000\n",
              "housing      housing    object           45211           0           0.0000\n",
              "loan            loan    object           45211           0           0.0000\n",
              "contact      contact    object           45211           0           0.0000\n",
              "day              day     int64           45211           0           0.0000\n",
              "month          month    object           45211           0           0.0000\n",
              "duration    duration     int64           45211           0           0.0000\n",
              "campaign    campaign     int64           45211           0           0.0000\n",
              "pdays          pdays     int64           45211           0           0.0000\n",
              "previous    previous     int64           45211           0           0.0000\n",
              "poutcome    poutcome    object           45211           0           0.0000\n",
              "y                  y    object           45211           0           0.0000"
            ]
          },
          "metadata": {},
          "output_type": "display_data"
        }
      ],
      "source": [
        "# Column names and data types\n",
        "print(\"=== COLUMN INFORMATION ===\")\n",
        "col_info = pd.DataFrame({\n",
        "    'Column': df_raw.columns,\n",
        "    'Data_Type': df_raw.dtypes,\n",
        "    'Non_Null_Count': df_raw.count(),\n",
        "    'Null_Count': df_raw.isnull().sum(),\n",
        "    'Null_Percentage': (df_raw.isnull().sum() / len(df_raw) * 100).round(2)\n",
        "})\n",
        "display(col_info)"
      ]
    },
    {
      "cell_type": "markdown",
      "metadata": {
        "id": "qkJGLyTs-rfK"
      },
      "source": [
        "# 3. Data Quality Assessment"
      ]
    },
    {
      "cell_type": "code",
      "execution_count": 12,
      "metadata": {
        "colab": {
          "base_uri": "https://localhost:8080/"
        },
        "id": "2WHtmkNo-wLg",
        "outputId": "2a672ff5-f20f-4ff0-c644-d6c9ef2ed6f6"
      },
      "outputs": [
        {
          "name": "stdout",
          "output_type": "stream",
          "text": [
            "=== INITIAL DATA QUALITY REPORT ===\n",
            "Total rows: 45,211\n",
            "Total columns: 17\n",
            "Duplicate rows: 0\n",
            "Completely empty rows: 0\n"
          ]
        }
      ],
      "source": [
        "# Create a copy for processing\n",
        "df = df_raw.copy()\n",
        "\n",
        "print(\"=== INITIAL DATA QUALITY REPORT ===\")\n",
        "print(f\"Total rows: {len(df):,}\")\n",
        "print(f\"Total columns: {len(df.columns)}\")\n",
        "print(f\"Duplicate rows: {df.duplicated().sum():,}\")\n",
        "print(f\"Completely empty rows: {df.isnull().all(axis=1).sum():,}\")"
      ]
    },
    {
      "cell_type": "code",
      "execution_count": 13,
      "metadata": {
        "colab": {
          "base_uri": "https://localhost:8080/"
        },
        "id": "0lX2ZtMG-z6U",
        "outputId": "69ec3b24-88d0-4a37-a7b9-ecc32249c7b4"
      },
      "outputs": [
        {
          "name": "stdout",
          "output_type": "stream",
          "text": [
            "=== DATA TYPE CONSISTENCY CHECK ===\n"
          ]
        }
      ],
      "source": [
        "# Check for inconsistent data types\n",
        "print(\"=== DATA TYPE CONSISTENCY CHECK ===\")\n",
        "for col in df.columns:\n",
        "    unique_types = df[col].apply(type).value_counts()\n",
        "    if len(unique_types) > 1:\n",
        "        print(f\"Column '{col}' has mixed data types:\")\n",
        "        print(unique_types)\n",
        "        print()\n",
        "\n"
      ]
    },
    {
      "cell_type": "code",
      "execution_count": 14,
      "metadata": {
        "colab": {
          "base_uri": "https://localhost:8080/"
        },
        "id": "AvDS0RPa-8Tk",
        "outputId": "f5ce874a-d3e1-4965-e79e-e846f0149f09"
      },
      "outputs": [
        {
          "name": "stdout",
          "output_type": "stream",
          "text": [
            "Numerical columns (7): ['age', 'balance', 'day', 'duration', 'campaign', 'pdays', 'previous']\n",
            "Categorical columns (10): ['job', 'marital', 'education', 'default', 'housing', 'loan', 'contact', 'month', 'poutcome', 'y']\n",
            "Datetime columns (0): []\n"
          ]
        }
      ],
      "source": [
        "# Identify categorical vs numerical columns\n",
        "numerical_cols = df.select_dtypes(include=[np.number]).columns.tolist()\n",
        "categorical_cols = df.select_dtypes(include=['object', 'category']).columns.tolist()\n",
        "datetime_cols = df.select_dtypes(include=['datetime64']).columns.tolist()\n",
        "\n",
        "print(f\"Numerical columns ({len(numerical_cols)}): {numerical_cols}\")\n",
        "print(f\"Categorical columns ({len(categorical_cols)}): {categorical_cols}\")\n",
        "print(f\"Datetime columns ({len(datetime_cols)}): {datetime_cols}\")\n"
      ]
    },
    {
      "cell_type": "markdown",
      "metadata": {
        "id": "0hg1ImuP_CMJ"
      },
      "source": [
        "# 4. Handle Missing Values"
      ]
    },
    {
      "cell_type": "code",
      "execution_count": 15,
      "metadata": {
        "colab": {
          "base_uri": "https://localhost:8080/",
          "height": 106
        },
        "id": "nhoqCFKP_FeT",
        "outputId": "86ea407a-8ec4-4b61-caf5-327bf40753fc"
      },
      "outputs": [
        {
          "name": "stdout",
          "output_type": "stream",
          "text": [
            "=== MISSING VALUE ANALYSIS ===\n"
          ]
        },
        {
          "data": {
            "text/html": [
              "<div>\n",
              "<style scoped>\n",
              "    .dataframe tbody tr th:only-of-type {\n",
              "        vertical-align: middle;\n",
              "    }\n",
              "\n",
              "    .dataframe tbody tr th {\n",
              "        vertical-align: top;\n",
              "    }\n",
              "\n",
              "    .dataframe thead th {\n",
              "        text-align: right;\n",
              "    }\n",
              "</style>\n",
              "<table border=\"1\" class=\"dataframe\">\n",
              "  <thead>\n",
              "    <tr style=\"text-align: right;\">\n",
              "      <th></th>\n",
              "      <th>Column</th>\n",
              "      <th>Missing_Count</th>\n",
              "      <th>Missing_Percentage</th>\n",
              "      <th>Data_Type</th>\n",
              "    </tr>\n",
              "  </thead>\n",
              "  <tbody>\n",
              "  </tbody>\n",
              "</table>\n",
              "</div>"
            ],
            "text/plain": [
              "Empty DataFrame\n",
              "Columns: [Column, Missing_Count, Missing_Percentage, Data_Type]\n",
              "Index: []"
            ]
          },
          "metadata": {},
          "output_type": "display_data"
        }
      ],
      "source": [
        "# Detailed missing value analysis\n",
        "print(\"=== MISSING VALUE ANALYSIS ===\")\n",
        "missing_data = pd.DataFrame({\n",
        "    'Column': df.columns,\n",
        "    'Missing_Count': df.isnull().sum(),\n",
        "    'Missing_Percentage': (df.isnull().sum() / len(df) * 100).round(2),\n",
        "    'Data_Type': df.dtypes\n",
        "})\n",
        "missing_data = missing_data[missing_data['Missing_Count'] > 0].sort_values('Missing_Percentage', ascending=False)\n",
        "display(missing_data)\n"
      ]
    },
    {
      "cell_type": "code",
      "execution_count": 16,
      "metadata": {
        "colab": {
          "base_uri": "https://localhost:8080/"
        },
        "id": "mHCJQmGm_JjP",
        "outputId": "455e6c98-3e6a-4acd-bd91-0cf19c802567"
      },
      "outputs": [
        {
          "name": "stdout",
          "output_type": "stream",
          "text": [
            "No missing values found in the dataset!\n"
          ]
        }
      ],
      "source": [
        "# Missing value patterns\n",
        "if len(missing_data) > 0:\n",
        "    print(\"=== MISSING VALUE PATTERNS ===\")\n",
        "    # Check if missing values are correlated\n",
        "    missing_pattern = df.isnull()\n",
        "    missing_combinations = missing_pattern.value_counts().head(10)\n",
        "    print(\"Top 10 missing value combinations:\")\n",
        "    print(missing_combinations)\n",
        "else:\n",
        "    print(\"No missing values found in the dataset!\")"
      ]
    },
    {
      "cell_type": "markdown",
      "metadata": {
        "id": "RaJTo7dI_b_S"
      },
      "source": [
        "#5. Handle Duplicates"
      ]
    },
    {
      "cell_type": "code",
      "execution_count": 17,
      "metadata": {
        "colab": {
          "base_uri": "https://localhost:8080/"
        },
        "id": "JKUIaPjv_T6C",
        "outputId": "d4147167-3703-4b4d-b45e-d2c8ad55ff0f"
      },
      "outputs": [
        {
          "name": "stdout",
          "output_type": "stream",
          "text": [
            "=== DUPLICATE HANDLING ===\n"
          ]
        },
        {
          "name": "stdout",
          "output_type": "stream",
          "text": [
            "Total duplicate rows: 0\n"
          ]
        }
      ],
      "source": [
        "print(\"=== DUPLICATE HANDLING ===\")\n",
        "initial_rows = len(df)\n",
        "duplicates = df.duplicated().sum()\n",
        "\n",
        "print(f\"Total duplicate rows: {duplicates:,}\")"
      ]
    },
    {
      "cell_type": "markdown",
      "metadata": {
        "id": "dKmeelJJ_lYR"
      },
      "source": [
        "# 6. Data Type Optimization"
      ]
    },
    {
      "cell_type": "code",
      "execution_count": 18,
      "metadata": {
        "colab": {
          "base_uri": "https://localhost:8080/"
        },
        "id": "2yrRIWQ4_qyU",
        "outputId": "e6e52df3-641a-4ef5-e721-6f56899e2edd"
      },
      "outputs": [
        {
          "name": "stdout",
          "output_type": "stream",
          "text": [
            "=== DATA TYPE OPTIMIZATION ===\n"
          ]
        },
        {
          "name": "stdout",
          "output_type": "stream",
          "text": [
            "Memory usage before optimization: 25.75 MB\n"
          ]
        }
      ],
      "source": [
        "print(\"=== DATA TYPE OPTIMIZATION ===\")\n",
        "memory_before = df.memory_usage(deep=True).sum() / 1024**2\n",
        "print(f\"Memory usage before optimization: {memory_before:.2f} MB\")\n",
        "\n",
        "# Optimize numerical columns\n",
        "for col in numerical_cols:\n",
        "    if col in df.columns:  # Check if column still exists after preprocessing\n",
        "        col_min = df[col].min()\n",
        "        col_max = df[col].max()\n",
        "\n",
        "        # Integer optimization\n",
        "        if df[col].dtype in ['int64', 'int32']:\n",
        "            if col_min >= 0:  # Unsigned integers\n",
        "                if col_max < 255:\n",
        "                    df[col] = df[col].astype(np.uint8)\n",
        "                elif col_max < 65535:\n",
        "                    df[col] = df[col].astype(np.uint16)\n",
        "                elif col_max < 4294967295:\n",
        "                    df[col] = df[col].astype(np.uint32)\n",
        "            else:  # Signed integers\n",
        "                if col_min > -128 and col_max < 127:\n",
        "                    df[col] = df[col].astype(np.int8)\n",
        "                elif col_min > -32768 and col_max < 32767:\n",
        "                    df[col] = df[col].astype(np.int16)\n",
        "                elif col_min > -2147483648 and col_max < 2147483647:\n",
        "                    df[col] = df[col].astype(np.int32)\n",
        "\n",
        "        # Float optimization\n",
        "        elif df[col].dtype in ['float64']:\n",
        "            df[col] = pd.to_numeric(df[col], downcast='float')"
      ]
    },
    {
      "cell_type": "code",
      "execution_count": 19,
      "metadata": {
        "colab": {
          "base_uri": "https://localhost:8080/"
        },
        "id": "yf_alVd7_xMq",
        "outputId": "2efc541a-9672-4906-cab6-384a2462b992"
      },
      "outputs": [
        {
          "name": "stdout",
          "output_type": "stream",
          "text": [
            "Converted 'job' to category (12 unique values)\n",
            "Converted 'marital' to category (3 unique values)\n",
            "Converted 'education' to category (4 unique values)\n",
            "Converted 'default' to category (2 unique values)\n",
            "Converted 'housing' to category (2 unique values)\n",
            "Converted 'loan' to category (2 unique values)\n",
            "Converted 'contact' to category (3 unique values)\n",
            "Converted 'month' to category (12 unique values)\n",
            "Converted 'poutcome' to category (4 unique values)\n",
            "Converted 'y' to category (2 unique values)\n",
            "\n",
            "Memory usage after optimization: 1.00 MB\n",
            "Memory saved: 24.75 MB (96.1%)\n"
          ]
        }
      ],
      "source": [
        "# Optimize categorical columns\n",
        "for col in categorical_cols:\n",
        "    if col in df.columns:\n",
        "        unique_count = df[col].nunique()\n",
        "        total_count = len(df)\n",
        "\n",
        "        # Convert to category if it saves memory\n",
        "        if unique_count / total_count < 0.5:\n",
        "            df[col] = df[col].astype('category')\n",
        "            print(f\"Converted '{col}' to category ({unique_count} unique values)\")\n",
        "\n",
        "memory_after = df.memory_usage(deep=True).sum() / 1024**2\n",
        "print(f\"\\nMemory usage after optimization: {memory_after:.2f} MB\")\n",
        "print(f\"Memory saved: {memory_before - memory_after:.2f} MB ({((memory_before - memory_after) / memory_before * 100):.1f}%)\")"
      ]
    },
    {
      "cell_type": "markdown",
      "metadata": {
        "id": "tvbBT1AEAAii"
      },
      "source": [
        "# 7. Outlier Detection and Documentation"
      ]
    },
    {
      "cell_type": "code",
      "execution_count": 20,
      "metadata": {
        "colab": {
          "base_uri": "https://localhost:8080/"
        },
        "id": "wK-hL7QzAGnn",
        "outputId": "3010c1c5-50d2-4f00-a97d-fdf22ac7adb7"
      },
      "outputs": [
        {
          "name": "stdout",
          "output_type": "stream",
          "text": [
            "=== OUTLIER DETECTION ===\n"
          ]
        }
      ],
      "source": [
        "print(\"=== OUTLIER DETECTION ===\")\n",
        "outlier_summary = {}\n",
        "\n",
        "for col in numerical_cols:\n",
        "    if col in df.columns and df[col].dtype in [np.number]:\n",
        "        Q1 = df[col].quantile(0.25)\n",
        "        Q3 = df[col].quantile(0.75)\n",
        "        IQR = Q3 - Q1\n",
        "        lower_bound = Q1 - 1.5 * IQR\n",
        "        upper_bound = Q3 + 1.5 * IQR\n",
        "\n",
        "        outliers = df[(df[col] < lower_bound) | (df[col] > upper_bound)]\n",
        "        outlier_count = len(outliers)\n",
        "        outlier_percentage = (outlier_count / len(df)) * 100\n",
        "\n",
        "        outlier_summary[col] = {\n",
        "            'count': outlier_count,\n",
        "            'percentage': outlier_percentage,\n",
        "            'lower_bound': lower_bound,\n",
        "            'upper_bound': upper_bound,\n",
        "            'min_value': df[col].min(),\n",
        "            'max_value': df[col].max()\n",
        "        }\n",
        "\n",
        "        if outlier_count > 0:\n",
        "            print(f\"{col}: {outlier_count:,} outliers ({outlier_percentage:.2f}%)\")\n",
        "            print(f\"  Range: [{df[col].min():.2f}, {df[col].max():.2f}]\")\n",
        "            print(f\"  Normal range: [{lower_bound:.2f}, {upper_bound:.2f}]\")\n",
        "            print()\n",
        "\n",
        "# Note: We're documenting outliers but not removing them at this stage\n",
        "# Outlier treatment should be done during feature engineering based on domain knowledge\n"
      ]
    },
    {
      "cell_type": "markdown",
      "metadata": {
        "id": "gKgeK_GIAN2Z"
      },
      "source": [
        "# 8. Basic Data Validation"
      ]
    },
    {
      "cell_type": "code",
      "execution_count": 21,
      "metadata": {
        "colab": {
          "base_uri": "https://localhost:8080/"
        },
        "id": "vIR8oM_KAQZ8",
        "outputId": "5883f592-9321-45ca-8c26-7bd6dcc7568a"
      },
      "outputs": [
        {
          "name": "stdout",
          "output_type": "stream",
          "text": [
            "=== DATA VALIDATION CHECKS ===\n",
            "WARNING: pdays has 36954 negative values\n"
          ]
        }
      ],
      "source": [
        "print(\"=== DATA VALIDATION CHECKS ===\")\n",
        "validation_issues = []\n",
        "\n",
        "# Check for negative values where they shouldn't exist\n",
        "for col in ['age', 'duration', 'campaign', 'pdays']:\n",
        "    if col in df.columns:\n",
        "        negative_count = (df[col] < 0).sum()\n",
        "        if negative_count > 0:\n",
        "            validation_issues.append(f\"{col}: {negative_count} negative values\")\n",
        "            print(f\"WARNING: {col} has {negative_count} negative values\")\n"
      ]
    },
    {
      "cell_type": "code",
      "execution_count": 22,
      "metadata": {
        "id": "ujMBlMFqAVgf"
      },
      "outputs": [],
      "source": [
        "# Check for unrealistic age values\n",
        "if 'age' in df.columns:\n",
        "    unrealistic_age = ((df['age'] < 18) | (df['age'] > 100)).sum()\n",
        "    if unrealistic_age > 0:\n",
        "        validation_issues.append(f\"age: {unrealistic_age} unrealistic values (<18 or >100)\")\n",
        "        print(f\"WARNING: {unrealistic_age} unrealistic age values found\")"
      ]
    },
    {
      "cell_type": "code",
      "execution_count": 23,
      "metadata": {
        "colab": {
          "base_uri": "https://localhost:8080/"
        },
        "id": "WNR5NwfoAX6I",
        "outputId": "a026eb9d-00ed-476b-c2e9-338dc4075ab3"
      },
      "outputs": [
        {
          "name": "stdout",
          "output_type": "stream",
          "text": [
            "INFO: 3 records with zero duration\n"
          ]
        }
      ],
      "source": [
        "# Check for zero duration (might be data quality issue)\n",
        "if 'duration' in df.columns:\n",
        "    zero_duration = (df['duration'] == 0).sum()\n",
        "    if zero_duration > 0:\n",
        "        print(f\"INFO: {zero_duration} records with zero duration\")"
      ]
    },
    {
      "cell_type": "code",
      "execution_count": 24,
      "metadata": {
        "colab": {
          "base_uri": "https://localhost:8080/"
        },
        "id": "4AxkfOnjAdyX",
        "outputId": "7c6c52be-1e3b-44a9-b550-4e17cf995fc1"
      },
      "outputs": [
        {
          "name": "stdout",
          "output_type": "stream",
          "text": [
            "\n",
            "Target variable distribution:\n",
            "y\n",
            "no     39922\n",
            "yes     5289\n",
            "Name: count, dtype: int64\n",
            "Target balance: 0.132\n",
            "⚠ Found 1 validation issues to review\n"
          ]
        }
      ],
      "source": [
        "# Check target variable distribution\n",
        "if 'y' in df.columns:\n",
        "    target_dist = df['y'].value_counts()\n",
        "    print(f\"\\nTarget variable distribution:\")\n",
        "    print(target_dist)\n",
        "    print(f\"Target balance: {target_dist.min()/target_dist.max():.3f}\")\n",
        "\n",
        "if not validation_issues:\n",
        "    print(\"✓ No major data validation issues found!\")\n",
        "else:\n",
        "    print(f\"⚠ Found {len(validation_issues)} validation issues to review\")"
      ]
    },
    {
      "cell_type": "markdown",
      "metadata": {
        "id": "aN68mNoXAsGk"
      },
      "source": [
        "# 9. Final Data Summary"
      ]
    },
    {
      "cell_type": "code",
      "execution_count": 25,
      "metadata": {
        "colab": {
          "base_uri": "https://localhost:8080/",
          "height": 704
        },
        "id": "gY4Ud6tZA1vV",
        "outputId": "b929702f-2663-4152-c714-09ba33a635ce"
      },
      "outputs": [
        {
          "name": "stdout",
          "output_type": "stream",
          "text": [
            "=== FINAL PREPROCESSED DATA SUMMARY ===\n",
            "Final dataset shape: (45211, 17)\n",
            "Memory usage: 1.00 MB\n",
            "Missing values: 0\n",
            "Duplicate rows: 0\n",
            "\n",
            "=== COLUMN SUMMARY ===\n"
          ]
        },
        {
          "data": {
            "text/html": [
              "<div>\n",
              "<style scoped>\n",
              "    .dataframe tbody tr th:only-of-type {\n",
              "        vertical-align: middle;\n",
              "    }\n",
              "\n",
              "    .dataframe tbody tr th {\n",
              "        vertical-align: top;\n",
              "    }\n",
              "\n",
              "    .dataframe thead th {\n",
              "        text-align: right;\n",
              "    }\n",
              "</style>\n",
              "<table border=\"1\" class=\"dataframe\">\n",
              "  <thead>\n",
              "    <tr style=\"text-align: right;\">\n",
              "      <th></th>\n",
              "      <th>Column</th>\n",
              "      <th>Data_Type</th>\n",
              "      <th>Non_Null_Count</th>\n",
              "      <th>Unique_Values</th>\n",
              "      <th>Memory_MB</th>\n",
              "    </tr>\n",
              "  </thead>\n",
              "  <tbody>\n",
              "    <tr>\n",
              "      <th>age</th>\n",
              "      <td>age</td>\n",
              "      <td>uint8</td>\n",
              "      <td>45211</td>\n",
              "      <td>77</td>\n",
              "      <td>0.0431</td>\n",
              "    </tr>\n",
              "    <tr>\n",
              "      <th>job</th>\n",
              "      <td>job</td>\n",
              "      <td>category</td>\n",
              "      <td>45211</td>\n",
              "      <td>12</td>\n",
              "      <td>0.0441</td>\n",
              "    </tr>\n",
              "    <tr>\n",
              "      <th>marital</th>\n",
              "      <td>marital</td>\n",
              "      <td>category</td>\n",
              "      <td>45211</td>\n",
              "      <td>3</td>\n",
              "      <td>0.0434</td>\n",
              "    </tr>\n",
              "    <tr>\n",
              "      <th>education</th>\n",
              "      <td>education</td>\n",
              "      <td>category</td>\n",
              "      <td>45211</td>\n",
              "      <td>4</td>\n",
              "      <td>0.0435</td>\n",
              "    </tr>\n",
              "    <tr>\n",
              "      <th>default</th>\n",
              "      <td>default</td>\n",
              "      <td>category</td>\n",
              "      <td>45211</td>\n",
              "      <td>2</td>\n",
              "      <td>0.0433</td>\n",
              "    </tr>\n",
              "    <tr>\n",
              "      <th>balance</th>\n",
              "      <td>balance</td>\n",
              "      <td>int32</td>\n",
              "      <td>45211</td>\n",
              "      <td>7168</td>\n",
              "      <td>0.1725</td>\n",
              "    </tr>\n",
              "    <tr>\n",
              "      <th>housing</th>\n",
              "      <td>housing</td>\n",
              "      <td>category</td>\n",
              "      <td>45211</td>\n",
              "      <td>2</td>\n",
              "      <td>0.0433</td>\n",
              "    </tr>\n",
              "    <tr>\n",
              "      <th>loan</th>\n",
              "      <td>loan</td>\n",
              "      <td>category</td>\n",
              "      <td>45211</td>\n",
              "      <td>2</td>\n",
              "      <td>0.0433</td>\n",
              "    </tr>\n",
              "    <tr>\n",
              "      <th>contact</th>\n",
              "      <td>contact</td>\n",
              "      <td>category</td>\n",
              "      <td>45211</td>\n",
              "      <td>3</td>\n",
              "      <td>0.0434</td>\n",
              "    </tr>\n",
              "    <tr>\n",
              "      <th>day</th>\n",
              "      <td>day</td>\n",
              "      <td>uint8</td>\n",
              "      <td>45211</td>\n",
              "      <td>31</td>\n",
              "      <td>0.0431</td>\n",
              "    </tr>\n",
              "    <tr>\n",
              "      <th>month</th>\n",
              "      <td>month</td>\n",
              "      <td>category</td>\n",
              "      <td>45211</td>\n",
              "      <td>12</td>\n",
              "      <td>0.0440</td>\n",
              "    </tr>\n",
              "    <tr>\n",
              "      <th>duration</th>\n",
              "      <td>duration</td>\n",
              "      <td>uint16</td>\n",
              "      <td>45211</td>\n",
              "      <td>1573</td>\n",
              "      <td>0.0862</td>\n",
              "    </tr>\n",
              "    <tr>\n",
              "      <th>campaign</th>\n",
              "      <td>campaign</td>\n",
              "      <td>uint8</td>\n",
              "      <td>45211</td>\n",
              "      <td>48</td>\n",
              "      <td>0.0431</td>\n",
              "    </tr>\n",
              "    <tr>\n",
              "      <th>pdays</th>\n",
              "      <td>pdays</td>\n",
              "      <td>int16</td>\n",
              "      <td>45211</td>\n",
              "      <td>559</td>\n",
              "      <td>0.0862</td>\n",
              "    </tr>\n",
              "    <tr>\n",
              "      <th>previous</th>\n",
              "      <td>previous</td>\n",
              "      <td>uint16</td>\n",
              "      <td>45211</td>\n",
              "      <td>41</td>\n",
              "      <td>0.0862</td>\n",
              "    </tr>\n",
              "    <tr>\n",
              "      <th>poutcome</th>\n",
              "      <td>poutcome</td>\n",
              "      <td>category</td>\n",
              "      <td>45211</td>\n",
              "      <td>4</td>\n",
              "      <td>0.0435</td>\n",
              "    </tr>\n",
              "    <tr>\n",
              "      <th>y</th>\n",
              "      <td>y</td>\n",
              "      <td>category</td>\n",
              "      <td>45211</td>\n",
              "      <td>2</td>\n",
              "      <td>0.0433</td>\n",
              "    </tr>\n",
              "  </tbody>\n",
              "</table>\n",
              "</div>"
            ],
            "text/plain": [
              "              Column Data_Type  Non_Null_Count  Unique_Values  Memory_MB\n",
              "age              age     uint8           45211             77     0.0431\n",
              "job              job  category           45211             12     0.0441\n",
              "marital      marital  category           45211              3     0.0434\n",
              "education  education  category           45211              4     0.0435\n",
              "default      default  category           45211              2     0.0433\n",
              "balance      balance     int32           45211           7168     0.1725\n",
              "housing      housing  category           45211              2     0.0433\n",
              "loan            loan  category           45211              2     0.0433\n",
              "contact      contact  category           45211              3     0.0434\n",
              "day              day     uint8           45211             31     0.0431\n",
              "month          month  category           45211             12     0.0440\n",
              "duration    duration    uint16           45211           1573     0.0862\n",
              "campaign    campaign     uint8           45211             48     0.0431\n",
              "pdays          pdays     int16           45211            559     0.0862\n",
              "previous    previous    uint16           45211             41     0.0862\n",
              "poutcome    poutcome  category           45211              4     0.0435\n",
              "y                  y  category           45211              2     0.0433"
            ]
          },
          "metadata": {},
          "output_type": "display_data"
        }
      ],
      "source": [
        "print(\"=== FINAL PREPROCESSED DATA SUMMARY ===\")\n",
        "print(f\"Final dataset shape: {df.shape}\")\n",
        "print(f\"Memory usage: {df.memory_usage(deep=True).sum() / 1024**2:.2f} MB\")\n",
        "print(f\"Missing values: {df.isnull().sum().sum()}\")\n",
        "print(f\"Duplicate rows: {df.duplicated().sum()}\")\n",
        "\n",
        "print(\"\\n=== COLUMN SUMMARY ===\")\n",
        "final_summary = pd.DataFrame({\n",
        "    'Column': df.columns,\n",
        "    'Data_Type': df.dtypes,\n",
        "    'Non_Null_Count': df.count(),\n",
        "    'Unique_Values': [df[col].nunique() for col in df.columns],\n",
        "    'Memory_MB': df.memory_usage(deep=True)[1:] / 1024**2\n",
        "})\n",
        "display(final_summary)\n"
      ]
    },
    {
      "cell_type": "code",
      "execution_count": 26,
      "metadata": {
        "colab": {
          "base_uri": "https://localhost:8080/",
          "height": 335
        },
        "id": "RaXfgpvDA7kY",
        "outputId": "cabacfaf-2a82-4fb2-b8a0-448d00f547b5"
      },
      "outputs": [
        {
          "name": "stdout",
          "output_type": "stream",
          "text": [
            "\n",
            "=== NUMERICAL COLUMNS STATISTICS ===\n"
          ]
        },
        {
          "data": {
            "text/html": [
              "<div>\n",
              "<style scoped>\n",
              "    .dataframe tbody tr th:only-of-type {\n",
              "        vertical-align: middle;\n",
              "    }\n",
              "\n",
              "    .dataframe tbody tr th {\n",
              "        vertical-align: top;\n",
              "    }\n",
              "\n",
              "    .dataframe thead th {\n",
              "        text-align: right;\n",
              "    }\n",
              "</style>\n",
              "<table border=\"1\" class=\"dataframe\">\n",
              "  <thead>\n",
              "    <tr style=\"text-align: right;\">\n",
              "      <th></th>\n",
              "      <th>age</th>\n",
              "      <th>balance</th>\n",
              "      <th>day</th>\n",
              "      <th>duration</th>\n",
              "      <th>campaign</th>\n",
              "      <th>pdays</th>\n",
              "      <th>previous</th>\n",
              "    </tr>\n",
              "  </thead>\n",
              "  <tbody>\n",
              "    <tr>\n",
              "      <th>count</th>\n",
              "      <td>45211.0000</td>\n",
              "      <td>45211.0000</td>\n",
              "      <td>45211.0000</td>\n",
              "      <td>45211.0000</td>\n",
              "      <td>45211.0000</td>\n",
              "      <td>45211.0000</td>\n",
              "      <td>45211.0000</td>\n",
              "    </tr>\n",
              "    <tr>\n",
              "      <th>mean</th>\n",
              "      <td>40.9362</td>\n",
              "      <td>1362.2721</td>\n",
              "      <td>15.8064</td>\n",
              "      <td>258.1631</td>\n",
              "      <td>2.7638</td>\n",
              "      <td>40.1978</td>\n",
              "      <td>0.5803</td>\n",
              "    </tr>\n",
              "    <tr>\n",
              "      <th>std</th>\n",
              "      <td>10.6188</td>\n",
              "      <td>3044.7658</td>\n",
              "      <td>8.3225</td>\n",
              "      <td>257.5278</td>\n",
              "      <td>3.0980</td>\n",
              "      <td>100.1287</td>\n",
              "      <td>2.3034</td>\n",
              "    </tr>\n",
              "    <tr>\n",
              "      <th>min</th>\n",
              "      <td>18.0000</td>\n",
              "      <td>-8019.0000</td>\n",
              "      <td>1.0000</td>\n",
              "      <td>0.0000</td>\n",
              "      <td>1.0000</td>\n",
              "      <td>-1.0000</td>\n",
              "      <td>0.0000</td>\n",
              "    </tr>\n",
              "    <tr>\n",
              "      <th>25%</th>\n",
              "      <td>33.0000</td>\n",
              "      <td>72.0000</td>\n",
              "      <td>8.0000</td>\n",
              "      <td>103.0000</td>\n",
              "      <td>1.0000</td>\n",
              "      <td>-1.0000</td>\n",
              "      <td>0.0000</td>\n",
              "    </tr>\n",
              "    <tr>\n",
              "      <th>50%</th>\n",
              "      <td>39.0000</td>\n",
              "      <td>448.0000</td>\n",
              "      <td>16.0000</td>\n",
              "      <td>180.0000</td>\n",
              "      <td>2.0000</td>\n",
              "      <td>-1.0000</td>\n",
              "      <td>0.0000</td>\n",
              "    </tr>\n",
              "    <tr>\n",
              "      <th>75%</th>\n",
              "      <td>48.0000</td>\n",
              "      <td>1428.0000</td>\n",
              "      <td>21.0000</td>\n",
              "      <td>319.0000</td>\n",
              "      <td>3.0000</td>\n",
              "      <td>-1.0000</td>\n",
              "      <td>0.0000</td>\n",
              "    </tr>\n",
              "    <tr>\n",
              "      <th>max</th>\n",
              "      <td>95.0000</td>\n",
              "      <td>102127.0000</td>\n",
              "      <td>31.0000</td>\n",
              "      <td>4918.0000</td>\n",
              "      <td>63.0000</td>\n",
              "      <td>871.0000</td>\n",
              "      <td>275.0000</td>\n",
              "    </tr>\n",
              "  </tbody>\n",
              "</table>\n",
              "</div>"
            ],
            "text/plain": [
              "             age     balance        day   duration   campaign      pdays  \\\n",
              "count 45211.0000  45211.0000 45211.0000 45211.0000 45211.0000 45211.0000   \n",
              "mean     40.9362   1362.2721    15.8064   258.1631     2.7638    40.1978   \n",
              "std      10.6188   3044.7658     8.3225   257.5278     3.0980   100.1287   \n",
              "min      18.0000  -8019.0000     1.0000     0.0000     1.0000    -1.0000   \n",
              "25%      33.0000     72.0000     8.0000   103.0000     1.0000    -1.0000   \n",
              "50%      39.0000    448.0000    16.0000   180.0000     2.0000    -1.0000   \n",
              "75%      48.0000   1428.0000    21.0000   319.0000     3.0000    -1.0000   \n",
              "max      95.0000 102127.0000    31.0000  4918.0000    63.0000   871.0000   \n",
              "\n",
              "        previous  \n",
              "count 45211.0000  \n",
              "mean      0.5803  \n",
              "std       2.3034  \n",
              "min       0.0000  \n",
              "25%       0.0000  \n",
              "50%       0.0000  \n",
              "75%       0.0000  \n",
              "max     275.0000  "
            ]
          },
          "metadata": {},
          "output_type": "display_data"
        }
      ],
      "source": [
        "# Quick statistical summary for numerical columns\n",
        "numerical_cols_final = df.select_dtypes(include=[np.number]).columns.tolist()\n",
        "if numerical_cols_final:\n",
        "    print(\"\\n=== NUMERICAL COLUMNS STATISTICS ===\")\n",
        "    display(df[numerical_cols_final].describe())"
      ]
    },
    {
      "cell_type": "markdown",
      "metadata": {
        "id": "hfzbx062BDgE"
      },
      "source": [
        "# 11. Preprocessing Log Summary"
      ]
    },
    {
      "cell_type": "code",
      "execution_count": 27,
      "metadata": {
        "colab": {
          "base_uri": "https://localhost:8080/"
        },
        "id": "VlEknUfU8zVF",
        "outputId": "48d4b8fa-dd13-4ad0-9281-3d0baf736275"
      },
      "outputs": [
        {
          "name": "stdout",
          "output_type": "stream",
          "text": [
            "=== PREPROCESSING COMPLETION REPORT ===\n",
            "Started: 2025-06-14 21:56:48.222294\n",
            "Input: 45,211 rows × 17 columns\n",
            "Output: 45,211 rows × 17 columns\n",
            "Rows removed: 0 (0.00%)\n",
            "Memory optimized: 24.75 MB saved\n",
            "\n",
            "✓ Data preprocessing completed successfully!\n",
            "✓ Ready for feature engineering and modeling\n",
            "\n",
            "=== NEXT STEPS ===\n",
            "1. Feature Engineering (duration transformations, cyclical encoding, etc.)\n",
            "2. Exploratory Data Analysis (EDA)\n",
            "3. Feature Selection\n",
            "4. Model Development\n",
            "5. Model Evaluation\n"
          ]
        }
      ],
      "source": [
        "print(\"=== PREPROCESSING COMPLETION REPORT ===\")\n",
        "print(f\"Started: {datetime.now()}\")\n",
        "print(f\"Input: {df_raw.shape[0]:,} rows × {df_raw.shape[1]} columns\")\n",
        "print(f\"Output: {df.shape[0]:,} rows × {df.shape[1]} columns\")\n",
        "print(f\"Rows removed: {df_raw.shape[0] - df.shape[0]:,} ({((df_raw.shape[0] - df.shape[0])/df_raw.shape[0]*100):.2f}%)\")\n",
        "print(f\"Memory optimized: {memory_before - memory_after:.2f} MB saved\")\n",
        "print(f\"\\n✓ Data preprocessing completed successfully!\")\n",
        "print(f\"✓ Ready for feature engineering and modeling\")\n",
        "\n",
        "# Next steps reminder\n",
        "print(\"\\n=== NEXT STEPS ===\")\n",
        "print(\"1. Feature Engineering (duration transformations, cyclical encoding, etc.)\")\n",
        "print(\"2. Exploratory Data Analysis (EDA)\")\n",
        "print(\"3. Feature Selection\")\n",
        "print(\"4. Model Development\")\n",
        "print(\"5. Model Evaluation\")"
      ]
    },
    {
      "cell_type": "code",
      "execution_count": 28,
      "metadata": {
        "id": "xRotxxGG9NG-"
      },
      "outputs": [
        {
          "name": "stdout",
          "output_type": "stream",
          "text": [
            "=== CORRELATION WITH TARGET VARIABLE 'y' ===\n",
            "age: correlation = 0.0252 (p=8.826e-08)\n",
            "balance: correlation = 0.0528 (p=2.521e-29)\n",
            "day: correlation = -0.0283 (p=1.654e-09)\n",
            "duration: correlation = 0.3945 (p=0)\n",
            "campaign: correlation = -0.0732 (p=1.012e-54)\n",
            "pdays: correlation = 0.1036 (p=3.791e-108)\n",
            "previous: correlation = 0.0932 (p=7.802e-88)\n",
            "job: Cramér's V = 0.1351\n",
            "marital: Cramér's V = 0.0656\n",
            "education: Cramér's V = 0.0722\n",
            "default: Cramér's V = 0.0217\n",
            "housing: Cramér's V = 0.1390\n",
            "loan: Cramér's V = 0.0679\n",
            "contact: Cramér's V = 0.1512\n",
            "month: Cramér's V = 0.2598\n",
            "poutcome: Cramér's V = 0.3116\n"
          ]
        },
        {
          "data": {
            "text/html": [
              "<div>\n",
              "<style scoped>\n",
              "    .dataframe tbody tr th:only-of-type {\n",
              "        vertical-align: middle;\n",
              "    }\n",
              "\n",
              "    .dataframe tbody tr th {\n",
              "        vertical-align: top;\n",
              "    }\n",
              "\n",
              "    .dataframe thead th {\n",
              "        text-align: right;\n",
              "    }\n",
              "</style>\n",
              "<table border=\"1\" class=\"dataframe\">\n",
              "  <thead>\n",
              "    <tr style=\"text-align: right;\">\n",
              "      <th></th>\n",
              "      <th>Feature</th>\n",
              "      <th>Correlation_with_y</th>\n",
              "    </tr>\n",
              "  </thead>\n",
              "  <tbody>\n",
              "    <tr>\n",
              "      <th>3</th>\n",
              "      <td>duration</td>\n",
              "      <td>0.3945</td>\n",
              "    </tr>\n",
              "    <tr>\n",
              "      <th>15</th>\n",
              "      <td>poutcome</td>\n",
              "      <td>0.3116</td>\n",
              "    </tr>\n",
              "    <tr>\n",
              "      <th>14</th>\n",
              "      <td>month</td>\n",
              "      <td>0.2598</td>\n",
              "    </tr>\n",
              "    <tr>\n",
              "      <th>13</th>\n",
              "      <td>contact</td>\n",
              "      <td>0.1512</td>\n",
              "    </tr>\n",
              "    <tr>\n",
              "      <th>11</th>\n",
              "      <td>housing</td>\n",
              "      <td>0.1390</td>\n",
              "    </tr>\n",
              "    <tr>\n",
              "      <th>7</th>\n",
              "      <td>job</td>\n",
              "      <td>0.1351</td>\n",
              "    </tr>\n",
              "    <tr>\n",
              "      <th>5</th>\n",
              "      <td>pdays</td>\n",
              "      <td>0.1036</td>\n",
              "    </tr>\n",
              "    <tr>\n",
              "      <th>6</th>\n",
              "      <td>previous</td>\n",
              "      <td>0.0932</td>\n",
              "    </tr>\n",
              "    <tr>\n",
              "      <th>4</th>\n",
              "      <td>campaign</td>\n",
              "      <td>-0.0732</td>\n",
              "    </tr>\n",
              "    <tr>\n",
              "      <th>9</th>\n",
              "      <td>education</td>\n",
              "      <td>0.0722</td>\n",
              "    </tr>\n",
              "    <tr>\n",
              "      <th>12</th>\n",
              "      <td>loan</td>\n",
              "      <td>0.0679</td>\n",
              "    </tr>\n",
              "    <tr>\n",
              "      <th>8</th>\n",
              "      <td>marital</td>\n",
              "      <td>0.0656</td>\n",
              "    </tr>\n",
              "    <tr>\n",
              "      <th>1</th>\n",
              "      <td>balance</td>\n",
              "      <td>0.0528</td>\n",
              "    </tr>\n",
              "    <tr>\n",
              "      <th>2</th>\n",
              "      <td>day</td>\n",
              "      <td>-0.0283</td>\n",
              "    </tr>\n",
              "    <tr>\n",
              "      <th>0</th>\n",
              "      <td>age</td>\n",
              "      <td>0.0252</td>\n",
              "    </tr>\n",
              "    <tr>\n",
              "      <th>10</th>\n",
              "      <td>default</td>\n",
              "      <td>0.0217</td>\n",
              "    </tr>\n",
              "  </tbody>\n",
              "</table>\n",
              "</div>"
            ],
            "text/plain": [
              "      Feature  Correlation_with_y\n",
              "3    duration              0.3945\n",
              "15   poutcome              0.3116\n",
              "14      month              0.2598\n",
              "13    contact              0.1512\n",
              "11    housing              0.1390\n",
              "7         job              0.1351\n",
              "5       pdays              0.1036\n",
              "6    previous              0.0932\n",
              "4    campaign             -0.0732\n",
              "9   education              0.0722\n",
              "12       loan              0.0679\n",
              "8     marital              0.0656\n",
              "1     balance              0.0528\n",
              "2         day             -0.0283\n",
              "0         age              0.0252\n",
              "10    default              0.0217"
            ]
          },
          "metadata": {},
          "output_type": "display_data"
        }
      ],
      "source": [
        "from scipy.stats import pointbiserialr\n",
        "\n",
        "# Check correlation of all features with 'y'\n",
        "print(\"=== CORRELATION WITH TARGET VARIABLE 'y' ===\")\n",
        "\n",
        "# For numerical features: use point biserial correlation\n",
        "\n",
        "correlations = {}\n",
        "\n",
        "# Convert target to binary (assuming 'yes' is positive class)\n",
        "y_binary = (df['y'] == 'yes').astype(int)\n",
        "\n",
        "for col in numerical_cols:\n",
        "    if col in df.columns:\n",
        "        corr, pval = pointbiserialr(df[col], y_binary)\n",
        "        correlations[col] = corr\n",
        "        print(f\"{col}: correlation = {corr:.4f} (p={pval:.4g})\")\n",
        "\n",
        "# For categorical features: use Cramér's V\n",
        "import scipy.stats as stats\n",
        "\n",
        "def cramers_v(x, y):\n",
        "    confusion_matrix = pd.crosstab(x, y)\n",
        "    chi2 = stats.chi2_contingency(confusion_matrix)[0]\n",
        "    n = confusion_matrix.sum().sum()\n",
        "    phi2 = chi2 / n\n",
        "    r, k = confusion_matrix.shape\n",
        "    phi2corr = max(0, phi2 - ((k-1)*(r-1))/(n-1))\n",
        "    rcorr = r - ((r-1)**2)/(n-1)\n",
        "    kcorr = k - ((k-1)**2)/(n-1)\n",
        "    return np.sqrt(phi2corr / min((kcorr-1), (rcorr-1)))\n",
        "\n",
        "for col in categorical_cols:\n",
        "    if col in df.columns and col != 'y':\n",
        "        v = cramers_v(df[col], df['y'])\n",
        "        correlations[col] = v\n",
        "        print(f\"{col}: Cramér's V = {v:.4f}\")\n",
        "\n",
        "# Optionally, display as a sorted DataFrame\n",
        "corr_df = pd.DataFrame(list(correlations.items()), columns=['Feature', 'Correlation_with_y'])\n",
        "corr_df = corr_df.sort_values('Correlation_with_y', key=np.abs, ascending=False)\n",
        "display(corr_df)"
      ]
    }
  ],
  "metadata": {
    "colab": {
      "provenance": []
    },
    "kernelspec": {
      "display_name": "env",
      "language": "python",
      "name": "python3"
    },
    "language_info": {
      "codemirror_mode": {
        "name": "ipython",
        "version": 3
      },
      "file_extension": ".py",
      "mimetype": "text/x-python",
      "name": "python",
      "nbconvert_exporter": "python",
      "pygments_lexer": "ipython3",
      "version": "3.13.2"
    }
  },
  "nbformat": 4,
  "nbformat_minor": 0
}
